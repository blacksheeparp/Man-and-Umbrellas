{
 "cells": [
  {
   "cell_type": "markdown",
   "metadata": {},
   "source": [
    "Man and Umbrellas\n",
    "=="
   ]
  },
  {
   "cell_type": "markdown",
   "metadata": {},
   "source": [
    "Problem:\n",
    "--\n",
    "\n",
    "Imagine a man who walks every day between his home and his office.\n",
    "Because of the ever-present threat of rain, he likes to keep an umbrella\n",
    "at each location; that way, so goes his reasoning, if it is raining when\n",
    "he is about to leave one location to walk to the other, he won’t get wet.\n",
    "The only flaw in his grand plan is that if it isn’t raining he invariably\n",
    "neglects to take an umbrella with him. If you think about this for about\n",
    "five seconds, you should see that this can easily result in one location\n",
    "eventually having both umbrellas and the other location having none.\n",
    "If he then happens to be about to leave the no-umbrella location when\n",
    "it is raining, well, he’s going to get wet!\n",
    "\n",
    "We are thus led to the following pretty problem. If it is raining\n",
    "with probability p at the time the man is about to start each of his\n",
    "walks, then, on average, how many times will he remain dry before\n",
    "experiencing his first soaking? To make the problem just a bit more\n",
    "general, suppose we start the man off at home with $x > 0$ umbrellas,\n",
    "and with $y > 0$ umbrellas at the office, where x and y are input\n",
    "parameters to a Monte Carlo simulation. Use your simulation to\n",
    "answer the above question for the two cases of $x=y=1$ and $x=y=2$,\n",
    "as $p$ varies from $0.01$ to $0.99$. That covers the entire spectrum from a\n",
    "very dry place (it rains, on average, once every $100$ walks) to a very wet\n",
    "place (it doesn’t rain, on average, once every $100$ walks). Do you see\n",
    "why we don’t need to run a simulation for either of the two extreme\n",
    "values of $p=0$ (it never rains) and of $p=1$ (it always rains)? That is,\n",
    "are the answers for these two special cases obvious to you by inspection?"
   ]
  },
  {
   "cell_type": "markdown",
   "metadata": {},
   "source": [
    "Solution for $x=y=1$:\n",
    "--\n",
    "\n",
    "When $p=0$, it never rains, and therefore the man will never get wet. When $p=1$, it always rains, and therefore the man will always remember to take an umbrella with him; so again, the man will never get wet.\n",
    "\n",
    "These extremes, as well as the intermediate cases, can be deduced from viewing the problem as a random walk on a graph with three vertices, $v_0$, $v_1$, and $v_2$, representing the states of having $0$, $1$, or $2$ umbrellas, respectively. Each vertex has two (length one) edges directed out of it, labelled $1$ or $0$, for raining or not raining. The extremes are represented by cycles containing the vertex $v_1$ in the graph from which a walk cannot escape when $p$ is either $0$ or $1$.\n",
    "\n",
    "The first time the man is soaked is represented by the first instance a random walk encounters $v_0$ (no umbrellas) followed by $v_2$ (two umbrellas) along the edge labelled $1$ (raining); call this edge $E$.\n",
    "\n",
    "Suppose that $\\ell_i$, $i = 0,1,2,$ represents the average number of vertices that a random walk starting at the vertex $v_i$ encountered before $E$ is crossed. We observe the following:\n",
    "\n",
    "$$\n",
    "\\begin{align}\n",
    "\\ell_0 & = (1-p)(1 + \\ell_1) & \\\\\n",
    "\\ell_1 & = p(1 + \\ell_1) + (1-p)(1 + \\ell_2) & \\\\\n",
    "\\ell_2 & = p(1 + \\ell_0) + (1-p)(1 + \\ell_0) &\n",
    "\\end{align}\n",
    "$$\n",
    "\n",
    "This is a system of linear three equations with three unknowns, with solution:\n",
    "\n",
    "$$\n",
    "\\begin{align}\n",
    "\\ell_0 & = \\frac{1}{3} (3-p) & \\\\\n",
    "\\ell_1 & = \\frac{-p^2 + 3p - 4)}{p(p-1)} \\\\\n",
    "\\ell_2 & = -\\frac{(p-1)^2 + 2}{p(p-1)}\n",
    "\\end{align}\n",
    "$$\n",
    "\n",
    "Note that these values are not defined for $p$ equal to $0$ or $1$."
   ]
  },
  {
   "cell_type": "markdown",
   "metadata": {},
   "source": [
    "For example, if $p = 0.5$, then the solution to the problem is $\\ell_1 = 11$.\n",
    "\n",
    "This approach would result in a solution for $x = y = 2$ as well."
   ]
  },
  {
   "cell_type": "markdown",
   "metadata": {},
   "source": [
    "Simulator\n",
    "--\n",
    "\n",
    "We import packages."
   ]
  },
  {
   "cell_type": "code",
   "execution_count": 3,
   "metadata": {
    "collapsed": true
   },
   "outputs": [],
   "source": [
    "import numpy as np\n",
    "import matplotlib.pyplot as plt"
   ]
  },
  {
   "cell_type": "markdown",
   "metadata": {},
   "source": [
    "My code for a basic simulator; values for $x$ and $y$ are input as u_1, u_2."
   ]
  },
  {
   "cell_type": "code",
   "execution_count": 19,
   "metadata": {
    "collapsed": true
   },
   "outputs": [],
   "source": [
    "def MC_sim(p,u_1,u_2,n,m):#p is probability, u_1+u_2 total umbrellas, n the number of iterations, m max attempted path\n",
    "    N = n\n",
    "    total = 0\n",
    "    tot_umb = u_1 + u_2\n",
    "\n",
    "    for i in range(n):\n",
    "        umb = u_1\n",
    "        j = 0\n",
    "        while j < m and umb > -1:\n",
    "            weather = np.random.binomial(1,p)\n",
    "            if weather == 1 and umb == 0:\n",
    "                umb = -1# man is soaked!\n",
    "            else:\n",
    "                umb = tot_umb - umb + weather# computes number of umbrellas at new location\n",
    "                j += 1# adds to the length of the walk\n",
    "        if umb > -1:\n",
    "            N -=1# If pathlength exceeds m before soaking, then we don't count this path in the average.\n",
    "        else:\n",
    "            total +=j\n",
    "    \n",
    "    if N == 0:\n",
    "        average = -1# Path length has exceeded N on every iteration -- could make N/n > bound.\n",
    "    else: average = total/N\n",
    "    return average       "
   ]
  },
  {
   "cell_type": "markdown",
   "metadata": {},
   "source": [
    "We can test the simulation for $p = 0.5$; from our calculation above, we expect this to be close to $11$:"
   ]
  },
  {
   "cell_type": "code",
   "execution_count": 21,
   "metadata": {},
   "outputs": [
    {
     "data": {
      "text/plain": [
       "10.9068"
      ]
     },
     "execution_count": 21,
     "metadata": {},
     "output_type": "execute_result"
    }
   ],
   "source": [
    "MC_sim(0.5,1,1,10000,10000)"
   ]
  },
  {
   "cell_type": "markdown",
   "metadata": {},
   "source": [
    "Now we test our simulation for intermediate values of $p$, for $x = y = 1$ and $x = y = 2$."
   ]
  },
  {
   "cell_type": "code",
   "execution_count": 24,
   "metadata": {},
   "outputs": [],
   "source": [
    "paths_1 = []# This will be a list of path lengths for x = y = 1 for different probabilities p\n",
    "paths_2 = []# This will be a list of path lengths for x = y = 2 for different probabilities p\n",
    "\n",
    "p = 0\n",
    "while p < 0.99:\n",
    "    p += 0.01\n",
    "    paths_1.append(MC_sim(p,1,1,1000,10000))\n",
    "    \n",
    "p = 0\n",
    "while p < 0.99:\n",
    "    p += 0.01\n",
    "    paths_2.append(MC_sim(p,2,2,1000,1000))"
   ]
  },
  {
   "cell_type": "markdown",
   "metadata": {},
   "source": [
    "We create bars graphs from our simulation results:"
   ]
  },
  {
   "cell_type": "code",
   "execution_count": 63,
   "metadata": {},
   "outputs": [
    {
     "data": {
      "image/png": "[encoded data removed]",
      "text/plain": [
       "<matplotlib.figure.Figure at 0x112546ef0>"
      ]
     },
     "metadata": {},
     "output_type": "display_data"
    }
   ],
   "source": [
    "bars = []\n",
    "t = 0\n",
    "\n",
    "while t < 0.99:\n",
    "    bars.append(t)\n",
    "    t += 0.01\n",
    "\n",
    "plt.figure(figsize = (20,6))\n",
    "\n",
    "plt.subplot(1,2,1)\n",
    "plt.bar(bars, paths_1, width = 0.01)\n",
    "plt.title('x = y = 1', fontsize=15)\n",
    "plt.ylim((0,500))\n",
    "plt.xlabel('Probability p')\n",
    "plt.ylabel('Path length')\n",
    "\n",
    "plt.subplot(1,2,2)\n",
    "plt.bar(bars, paths_2, width = 0.01)\n",
    "plt.title('x = y = 2', fontsize=15)\n",
    "plt.xlabel('Probability p')\n",
    "plt.ylabel('Path length')\n",
    "plt.tight_layout\n",
    "\n",
    "plt.show()"
   ]
  },
  {
   "cell_type": "code",
   "execution_count": null,
   "metadata": {
    "collapsed": true
   },
   "outputs": [],
   "source": []
  }
 ],
 "metadata": {
  "kernelspec": {
   "display_name": "Python 3",
   "language": "python",
   "name": "python3"
  },
  "language_info": {
   "codemirror_mode": {
    "name": "ipython",
    "version": 3
   },
   "file_extension": ".py",
   "mimetype": "text/x-python",
   "name": "python",
   "nbconvert_exporter": "python",
   "pygments_lexer": "ipython3",
   "version": "3.6.0"
  }
 },
 "nbformat": 4,
 "nbformat_minor": 2
}
